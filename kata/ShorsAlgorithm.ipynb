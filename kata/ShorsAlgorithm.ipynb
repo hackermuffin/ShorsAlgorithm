{
 "cells": [
  {
   "cell_type": "markdown",
   "metadata": {},
   "source": [
    "# Shors Algorithm\n",
    "\n",
    "## Task 1: A classical implementation\n",
    "\n",
    "First, we need to check special cases for Shor's Algorithm\n",
    "\n",
    "### 1.1 IsEven"
   ]
  },
  {
   "cell_type": "code",
   "execution_count": 2,
   "metadata": {},
   "outputs": [
    {
     "data": {
      "application/x-qsharp-data": "\"Success!\"",
      "text/plain": [
       "Success!"
      ]
     },
     "execution_count": 2,
     "metadata": {},
     "output_type": "execute_result"
    }
   ],
   "source": [
    "%kata IsEven_Test\n",
    "\n",
    "operation IsEven(N : Int) : Bool {\n",
    "    return (N%2==0);\n",
    "}"
   ]
  },
  {
   "cell_type": "markdown",
   "metadata": {},
   "source": [
    "### 1.2 IsPrime"
   ]
  },
  {
   "cell_type": "code",
   "execution_count": null,
   "metadata": {},
   "outputs": [],
   "source": [
    "%kata IsPrime_Test\n",
    "\n",
    "open Microsoft.Quantum.Convert;\n",
    "open Microsoft.Quantum.Math;\n",
    "\n",
    "operation IsPrime(N : Int) : Bool {\n",
    "    if (N <= 3) {\n",
    "        return (N > 1);\n",
    "    }\n",
    "    if (N%2 == 0) or (N%3 == 0) {\n",
    "        return false;\n",
    "    }\n",
    "    let sqrtN = Truncate(Sqrt(IntAsDouble(N)));\n",
    "    for i in 5..6..sqrtN {\n",
    "        if (N%i == 0) or (N%(i+2) == 0) {\n",
    "            return false;\n",
    "        }\n",
    "\n",
    "    }\n",
    "    return true;\n",
    "}"
   ]
  },
  {
   "cell_type": "markdown",
   "metadata": {},
   "source": [
    "GCD operation"
   ]
  },
  {
   "cell_type": "code",
   "execution_count": 3,
   "metadata": {},
   "outputs": [
    {
     "data": {
      "application/x-qsharp-data": "\"Success!\"",
      "text/plain": [
       "Success!"
      ]
     },
     "execution_count": 3,
     "metadata": {},
     "output_type": "execute_result"
    }
   ],
   "source": [
    "%kata GreatestCommonDivisor_Test\n",
    "\n",
    "open Microsoft.Quantum.Math;\n",
    "operation GreatestCommonDivisor (a : Int, N : Int) : Int {\n",
    "    let min = Min([a,N]);\n",
    "    mutable gcd = 1;\n",
    "    for i in 2..min {\n",
    "        if (a%i == 0 and N%i == 0) {\n",
    "            set gcd = i;\n",
    "        }\n",
    "    }\n",
    "    return gcd;\n",
    "}"
   ]
  },
  {
   "cell_type": "markdown",
   "metadata": {},
   "source": [
    "With these two tests, we can confirm that N is a product of two distinct prime numbers, so $N = pq$.\n",
    "// Explain order finding\n",
    "\n",
    "### 1.3 Classical order finding"
   ]
  },
  {
   "cell_type": "code",
   "execution_count": 4,
   "metadata": {},
   "outputs": [
    {
     "data": {
      "application/x-qsharp-data": "[\"FindOrderClassicalHelper\"]",
      "text/html": [
       "<ul><li>FindOrderClassicalHelper</li></ul>"
      ],
      "text/plain": [
       "FindOrderClassicalHelper"
      ]
     },
     "execution_count": 4,
     "metadata": {},
     "output_type": "execute_result"
    }
   ],
   "source": [
    "operation FindOrderClassicalHelper(a : BigInt, N: BigInt) : Int {\n",
    "    mutable power = 0;\n",
    "    repeat {\n",
    "        set power += 1;\n",
    "    } until (a^power % N == 1L);\n",
    "    return power;\n",
    "}"
   ]
  },
  {
   "cell_type": "code",
   "execution_count": 7,
   "metadata": {},
   "outputs": [
    {
     "data": {
      "application/x-qsharp-data": "\"Success!\"",
      "text/plain": [
       "Success!"
      ]
     },
     "execution_count": 7,
     "metadata": {},
     "output_type": "execute_result"
    }
   ],
   "source": [
    "%kata FindOrderClassical_Test\n",
    "\n",
    "open Microsoft.Quantum.Convert;\n",
    "\n",
    "operation FindOrderClassical(a : Int, N : Int) : Int{\n",
    "    return FindOrderClassicalHelper(IntAsBigInt(a),IntAsBigInt(N));\n",
    "}"
   ]
  },
  {
   "cell_type": "markdown",
   "metadata": {},
   "source": [
    "### 1.4 Generate random number"
   ]
  },
  {
   "cell_type": "code",
   "execution_count": 6,
   "metadata": {},
   "outputs": [
    {
     "data": {
      "application/x-qsharp-data": "\"Success!\"",
      "text/plain": [
       "Success!"
      ]
     },
     "execution_count": 6,
     "metadata": {},
     "output_type": "execute_result"
    }
   ],
   "source": [
    "%kata GenerateRandomNumber_Test\n",
    "\n",
    "open Microsoft.Quantum.Arithmetic;\n",
    "open Microsoft.Quantum.Math;\n",
    "\n",
    "operation GenerateRandomNumber(N : Int) : Int {\n",
    "    use register = Qubit[BitSizeI(N-2)];\n",
    "    mutable result = 0;\n",
    "    repeat {\n",
    "        ApplyToEachCA(H,register);\n",
    "        set result = MeasureInteger(LittleEndian(register));\n",
    "    } until ((result + 2) < N);\n",
    "    return result+2;\n",
    "}"
   ]
  },
  {
   "cell_type": "markdown",
   "metadata": {},
   "source": [
    "### 1.5 General Case"
   ]
  },
  {
   "cell_type": "code",
   "execution_count": 1,
   "metadata": {},
   "outputs": [
    {
     "name": "stderr",
     "output_type": "stream",
     "text": [
      "/snippet_.qs(5,17): error QS5022: No identifier with the name \"GenerateRandomNumber\" exists.\n",
      "/snippet_.qs(6,19): error QS5022: No identifier with the name \"GreatestCommonDivisor\" exists.\n",
      "/snippet_.qs(11,13): error QS5022: No identifier with the name \"IsEven\" exists.\n",
      "/snippet_.qs(13,24): error QS5022: No identifier with the name \"GreatestCommonDivisor\" exists.\n"
     ]
    }
   ],
   "source": [
    "%kata GeneralCase_Test\n",
    "\n",
    "operation GeneralCase(OrderFinder : ((Int, Int)=>Int), N : Int) : (Int, Int) {\n",
    "    mutable result = 0;\n",
    "    repeat {\n",
    "        let a = GenerateRandomNumber(N);\n",
    "        let gcd = GreatestCommonDivisor(a,N);\n",
    "        if (gcd > 1) {\n",
    "            return (gcd, N/gcd);\n",
    "        }\n",
    "        let r = OrderFinder(a,N);\n",
    "        if (IsEven(r)) {\n",
    "            let x = (a^(r/2) - 1) % N;\n",
    "            let gcdX = GreatestCommonDivisor(x,N);\n",
    "            if (gcdX > 1) {\n",
    "                set result = gcdX;\n",
    "            }\n",
    "        }\n",
    "    } until (result != 0);\n",
    "    return (result, N/result);\n",
    "}"
   ]
  },
  {
   "cell_type": "code",
   "execution_count": null,
   "metadata": {},
   "outputs": [],
   "source": [
    "operation GeneralCaseClassical(N : Int) : (Int,Int) {\n",
    "    return GeneralCase(FindOrderClassical,N);\n",
    "}"
   ]
  },
  {
   "cell_type": "code",
   "execution_count": null,
   "metadata": {},
   "outputs": [],
   "source": [
    "%simulate GeneralCaseClassical N=18"
   ]
  },
  {
   "cell_type": "markdown",
   "metadata": {},
   "source": [
    "### 1.6 Full Classical Shor's Implimentation"
   ]
  },
  {
   "cell_type": "code",
   "execution_count": null,
   "metadata": {},
   "outputs": [],
   "source": [
    "operation ShorsAlgorithmClassical(N : Int) : (Int, Int) {\n",
    "    \n",
    "}"
   ]
  },
  {
   "cell_type": "code",
   "execution_count": null,
   "metadata": {},
   "outputs": [],
   "source": [
    "%kata Test_Test\n",
    "\n",
    "open Microsoft.Quantum.Canon;\n",
    "open Microsoft.Quantum.Intrinsic;\n",
    "\n",
    "operation Test(qs : Qubit[]) : Unit {\n",
    "    ApplyToEach(H,qs);\n",
    "}"
   ]
  },
  {
   "cell_type": "code",
   "execution_count": null,
   "metadata": {},
   "outputs": [],
   "source": [
    "%kata OrderFindingOracle_Test\n",
    "\n",
    "open Microsoft.Quantum.Arithmetic;\n",
    "open Microsoft.Quantum.Math;\n",
    "\n",
    "operation OrderFindingOracle (a : Int, N : Int, power : Int, target : Qubit[]) : Unit is Adj {\n",
    "    MultiplyByModularInteger(ExpModI(a, power, N), N, LittleEndian(target));\n",
    "}"
   ]
  },
  {
   "cell_type": "code",
   "execution_count": null,
   "metadata": {},
   "outputs": [],
   "source": [
    "operation OrderFindingTest () : Unit {\n",
    "    let (a, N, r) = (2, 15, 3);\n",
    "    use register = Qubit[BitSizeI(N)];\n",
    "    ApplyToEachCA(H,register);\n",
    "    OrderFindingOracle(a, N, r, register);\n",
    "}"
   ]
  },
  {
   "cell_type": "code",
   "execution_count": null,
   "metadata": {},
   "outputs": [],
   "source": [
    "%simulate OrderFindingTest"
   ]
  },
  {
   "cell_type": "code",
   "execution_count": null,
   "metadata": {},
   "outputs": [],
   "source": [
    "operation TestErrorCaching() : Unit {\n",
    "    repeat {\n",
    "        fail \"Something went wrong :(\";\n",
    "    }\n",
    "    until true\n",
    "    fixup {\n",
    "        Message(\"Yay!\");\n",
    "    }\n",
    "}"
   ]
  },
  {
   "cell_type": "code",
   "execution_count": null,
   "metadata": {},
   "outputs": [],
   "source": [
    "%simulate TestErrorCaching"
   ]
  },
  {
   "cell_type": "code",
   "execution_count": null,
   "metadata": {},
   "outputs": [],
   "source": []
  }
 ],
 "metadata": {
  "kernelspec": {
   "display_name": "Q#",
   "language": "qsharp",
   "name": "iqsharp"
  },
  "language_info": {
   "file_extension": ".qs",
   "mimetype": "text/x-qsharp",
   "name": "qsharp",
   "version": "0.14"
  }
 },
 "nbformat": 4,
 "nbformat_minor": 2
}
