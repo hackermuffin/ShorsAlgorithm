{
 "cells": [
  {
   "cell_type": "markdown",
   "metadata": {},
   "source": [
    "# Shors Algorithm\n",
    "\n",
    "## Task 1: A classical implementation\n",
    "\n",
    "First, we need to check special cases for Shor's Algorithm\n",
    "\n",
    "### 1.1 IsEven"
   ]
  },
  {
   "cell_type": "code",
   "execution_count": 1,
   "metadata": {},
   "outputs": [
    {
     "data": {
      "application/x-qsharp-data": "\"Success!\"",
      "text/plain": [
       "Success!"
      ]
     },
     "execution_count": 1,
     "metadata": {},
     "output_type": "execute_result"
    }
   ],
   "source": [
    "%kata IsEven_Test\n",
    "\n",
    "operation IsEven(N : Int) : Bool {\n",
    "    return (N%2==0);\n",
    "}"
   ]
  },
  {
   "cell_type": "markdown",
   "metadata": {},
   "source": [
    "### 1.2 IsPrime"
   ]
  },
  {
   "cell_type": "code",
   "execution_count": 2,
   "metadata": {},
   "outputs": [
    {
     "data": {
      "application/x-qsharp-data": "\"Success!\"",
      "text/plain": [
       "Success!"
      ]
     },
     "execution_count": 2,
     "metadata": {},
     "output_type": "execute_result"
    }
   ],
   "source": [
    "%kata IsPrime_Test\n",
    "\n",
    "open Microsoft.Quantum.Convert;\n",
    "open Microsoft.Quantum.Math;\n",
    "\n",
    "operation IsPrime(N : Int) : Bool {\n",
    "    if (N <= 3) {\n",
    "        return (N > 1);\n",
    "    }\n",
    "    if (N%2 == 0) or (N%3 == 0) {\n",
    "        return false;\n",
    "    }\n",
    "    let sqrtN = Truncate(Sqrt(IntAsDouble(N)));\n",
    "    for i in 5..6..sqrtN {\n",
    "        if (N%i == 0) or (N%(i+2) == 0) {\n",
    "            return false;\n",
    "        }\n",
    "\n",
    "    }\n",
    "    return true;\n",
    "}"
   ]
  },
  {
   "cell_type": "markdown",
   "metadata": {},
   "source": [
    "GCD operation"
   ]
  },
  {
   "cell_type": "code",
   "execution_count": 25,
   "metadata": {},
   "outputs": [
    {
     "data": {
      "application/x-qsharp-data": "\"Success!\"",
      "text/plain": [
       "Success!"
      ]
     },
     "execution_count": 25,
     "metadata": {},
     "output_type": "execute_result"
    }
   ],
   "source": [
    "%kata GreatestCommonDivisor_Test\n",
    "\n",
    "open Microsoft.Quantum.Math;\n",
    "operation GreatestCommonDivisor (a : Int, N : Int) : Int {\n",
    "    return GreatestCommonDivisorI(a,N);\n",
    "}"
   ]
  },
  {
   "cell_type": "markdown",
   "metadata": {},
   "source": [
    "With these two tests, we can confirm that N is a product of two distinct prime numbers, so $N = pq$.\n",
    "// Explain order finding\n",
    "\n",
    "### 1.3 Classical order finding"
   ]
  },
  {
   "cell_type": "code",
   "execution_count": 4,
   "metadata": {},
   "outputs": [
    {
     "data": {
      "application/x-qsharp-data": "[\"FindOrderClassicalHelper\"]",
      "text/html": [
       "<ul><li>FindOrderClassicalHelper</li></ul>"
      ],
      "text/plain": [
       "FindOrderClassicalHelper"
      ]
     },
     "execution_count": 4,
     "metadata": {},
     "output_type": "execute_result"
    }
   ],
   "source": [
    "operation FindOrderClassicalHelper(a : BigInt, N: BigInt) : Int {\n",
    "    mutable power = 0;\n",
    "    repeat {\n",
    "        set power += 1;\n",
    "    } until (a^power % N == 1L);\n",
    "    return power;\n",
    "}"
   ]
  },
  {
   "cell_type": "code",
   "execution_count": 5,
   "metadata": {},
   "outputs": [
    {
     "data": {
      "application/x-qsharp-data": "\"Success!\"",
      "text/plain": [
       "Success!"
      ]
     },
     "execution_count": 5,
     "metadata": {},
     "output_type": "execute_result"
    }
   ],
   "source": [
    "%kata FindOrderClassical_Test\n",
    "\n",
    "open Microsoft.Quantum.Convert;\n",
    "\n",
    "operation FindOrderClassical(a : Int, N : Int) : Int{\n",
    "    return FindOrderClassicalHelper(IntAsBigInt(a),IntAsBigInt(N));\n",
    "}"
   ]
  },
  {
   "cell_type": "markdown",
   "metadata": {},
   "source": [
    "### 1.4 Generate random number"
   ]
  },
  {
   "cell_type": "code",
   "execution_count": 6,
   "metadata": {},
   "outputs": [
    {
     "data": {
      "application/x-qsharp-data": "\"Success!\"",
      "text/plain": [
       "Success!"
      ]
     },
     "execution_count": 6,
     "metadata": {},
     "output_type": "execute_result"
    }
   ],
   "source": [
    "%kata GenerateRandomNumber_Test\n",
    "\n",
    "open Microsoft.Quantum.Arithmetic;\n",
    "open Microsoft.Quantum.Math;\n",
    "\n",
    "operation GenerateRandomNumber(N : Int) : Int {\n",
    "    use register = Qubit[BitSizeI(N-2)];\n",
    "    mutable result = 0;\n",
    "    repeat {\n",
    "        ApplyToEachCA(H,register);\n",
    "        set result = MeasureInteger(LittleEndian(register));\n",
    "    } until ((result + 2) < N);\n",
    "    return result+2;\n",
    "}"
   ]
  },
  {
   "cell_type": "markdown",
   "metadata": {},
   "source": [
    "### 1.5 General Case"
   ]
  },
  {
   "cell_type": "code",
   "execution_count": 7,
   "metadata": {},
   "outputs": [
    {
     "data": {
      "application/x-qsharp-data": "\"Success!\"",
      "text/plain": [
       "Success!"
      ]
     },
     "execution_count": 7,
     "metadata": {},
     "output_type": "execute_result"
    }
   ],
   "source": [
    "%kata GeneralCase_Test\n",
    "\n",
    "operation GeneralCase(OrderFinder : ((Int, Int)=>Int), N : Int) : (Int, Int) {\n",
    "    mutable result = 0;\n",
    "    repeat {\n",
    "        let a = GenerateRandomNumber(N);\n",
    "        let gcd = GreatestCommonDivisor(a,N);\n",
    "        if (gcd > 1) {\n",
    "            return (gcd, N/gcd);\n",
    "        }\n",
    "        let r = OrderFinder(a,N);\n",
    "        if (IsEven(r)) {\n",
    "            let x = (a^(r/2) - 1) % N;\n",
    "            let gcdX = GreatestCommonDivisor(x,N);\n",
    "            if (gcdX > 1) {\n",
    "                set result = gcdX;\n",
    "            }\n",
    "        }\n",
    "    } until (result != 0);\n",
    "    return (result, N/result);\n",
    "}"
   ]
  },
  {
   "cell_type": "markdown",
   "metadata": {},
   "source": [
    "### 1.6 Full Shor's Implimentation"
   ]
  },
  {
   "cell_type": "code",
   "execution_count": 8,
   "metadata": {},
   "outputs": [
    {
     "data": {
      "application/x-qsharp-data": "\"Success!\"",
      "text/plain": [
       "Success!"
      ]
     },
     "execution_count": 8,
     "metadata": {},
     "output_type": "execute_result"
    }
   ],
   "source": [
    "%kata ShorsAlgorithm_Test\n",
    "\n",
    "operation ShorsAlgorithm(OrderFinder : (Int, Int)=> Int, N : Int) : (Int, Int) {\n",
    "    if IsEven(N) {\n",
    "        return (2, N/2);\n",
    "    }\n",
    "    if IsPrime(N) {\n",
    "        fail IntAsString(N) + \" is prime, so doesn't have factors.\";\n",
    "    }\n",
    "    return GeneralCase(OrderFinder, N);\n",
    "}"
   ]
  },
  {
   "cell_type": "markdown",
   "metadata": {},
   "source": [
    "### 1.7 Classical Shor's Implimentation"
   ]
  },
  {
   "cell_type": "code",
   "execution_count": 9,
   "metadata": {},
   "outputs": [
    {
     "data": {
      "application/x-qsharp-data": "[\"ShorsAlgorithmClassical\"]",
      "text/html": [
       "<ul><li>ShorsAlgorithmClassical</li></ul>"
      ],
      "text/plain": [
       "ShorsAlgorithmClassical"
      ]
     },
     "execution_count": 9,
     "metadata": {},
     "output_type": "execute_result"
    }
   ],
   "source": [
    "operation ShorsAlgorithmClassical(N : Int) : (Int, Int) {\n",
    "    return ShorsAlgorithm(FindOrderClassical, N);\n",
    "}"
   ]
  },
  {
   "cell_type": "code",
   "execution_count": 10,
   "metadata": {},
   "outputs": [
    {
     "data": {
      "application/x-qsharp-data": "{\"@type\":\"@tuple\",\"Item1\":9,\"Item2\":3}",
      "text/plain": [
       "(9, 3)"
      ]
     },
     "execution_count": 10,
     "metadata": {},
     "output_type": "execute_result"
    }
   ],
   "source": [
    "%simulate ShorsAlgorithmClassical N=27"
   ]
  },
  {
   "cell_type": "markdown",
   "metadata": {},
   "source": [
    "## Part 2: Quantum Implementation of Order Finding\n",
    "### 2.1 Oracle"
   ]
  },
  {
   "cell_type": "code",
   "execution_count": 11,
   "metadata": {},
   "outputs": [
    {
     "data": {
      "application/x-qsharp-data": "\"Success!\"",
      "text/plain": [
       "Success!"
      ]
     },
     "execution_count": 11,
     "metadata": {},
     "output_type": "execute_result"
    }
   ],
   "source": [
    "%kata OrderFindingOracle_Test\n",
    "\n",
    "open Microsoft.Quantum.Arithmetic;\n",
    "open Microsoft.Quantum.Math;\n",
    "\n",
    "operation OrderFindingOracle(a : Int, N : Int, power : Int, target : Qubit[]) : Unit is Adj+Ctl {\n",
    "    MultiplyByModularInteger(ExpModI(a, power, N), N, LittleEndian(target));\n",
    "}"
   ]
  },
  {
   "cell_type": "code",
   "execution_count": 12,
   "metadata": {},
   "outputs": [
    {
     "data": {
      "application/x-qsharp-data": "[\"PrepareEigenstate\"]",
      "text/html": [
       "<ul><li>PrepareEigenstate</li></ul>"
      ],
      "text/plain": [
       "PrepareEigenstate"
      ]
     },
     "execution_count": 12,
     "metadata": {},
     "output_type": "execute_result"
    }
   ],
   "source": [
    "operation PrepareEigenstate(eigenstate : Qubit[]) : Unit is Adj+Ctl {\n",
    "    X(eigenstate[0]);\n",
    "}"
   ]
  },
  {
   "cell_type": "code",
   "execution_count": 14,
   "metadata": {},
   "outputs": [
    {
     "data": {
      "application/x-qsharp-data": "[\"ApplyQuantumPhaseEstimation\"]",
      "text/html": [
       "<ul><li>ApplyQuantumPhaseEstimation</li></ul>"
      ],
      "text/plain": [
       "ApplyQuantumPhaseEstimation"
      ]
     },
     "execution_count": 14,
     "metadata": {},
     "output_type": "execute_result"
    }
   ],
   "source": [
    "open Microsoft.Quantum.Oracles;\n",
    "open Microsoft.Quantum.Characterization;\n",
    "\n",
    "operation ApplyQuantumPhaseEstimation(oracle : DiscreteOracle, eigenstate : Qubit[], result : Qubit[]) : Int {\n",
    "    let resultBELE = LittleEndianAsBigEndian(LittleEndian(result));\n",
    "    QuantumPhaseEstimation(oracle,eigenstate,resultBELE);\n",
    "    return MeasureInteger(LittleEndian(result));\n",
    "}"
   ]
  },
  {
   "cell_type": "code",
   "execution_count": 19,
   "metadata": {},
   "outputs": [
    {
     "data": {
      "application/x-qsharp-data": "[\"PhaseResultToPeriod\"]",
      "text/html": [
       "<ul><li>PhaseResultToPeriod</li></ul>"
      ],
      "text/plain": [
       "PhaseResultToPeriod"
      ]
     },
     "execution_count": 19,
     "metadata": {},
     "output_type": "execute_result"
    }
   ],
   "source": [
    "operation PhaseResultToPeriod(phaseResult : Int, bitsPrecision : Int, N : Int) : Int {\n",
    "    let fractionResult = Fraction(phaseResult,2^bitsPrecision);\n",
    "    let simplifiedFraction = ContinuedFractionConvergentI(fractionResult, N);\n",
    "    let (numerator, period) = simplifiedFraction!;\n",
    "    return AbsI(period);\n",
    "}"
   ]
  },
  {
   "cell_type": "code",
   "execution_count": 23,
   "metadata": {},
   "outputs": [
    {
     "data": {
      "application/x-qsharp-data": "[\"FindOrderQuantum\"]",
      "text/html": [
       "<ul><li>FindOrderQuantum</li></ul>"
      ],
      "text/plain": [
       "FindOrderQuantum"
      ]
     },
     "execution_count": 23,
     "metadata": {},
     "output_type": "execute_result"
    }
   ],
   "source": [
    "open Microsoft.Quantum.Diagnostics;\n",
    "\n",
    "operation FindOrderQuantum(a : Int, N : Int) : Int {\n",
    "    mutable result = 1;\n",
    "    let bitsize = BitSizeI(N);\n",
    "    let bitsPrecision = 2 * bitsize - 1; // decide on precision?\n",
    "    \n",
    "    repeat {\n",
    "        Message(\"Starting finding order...\");\n",
    "        \n",
    "        // setup register holding 'eigenstate' of |1>\n",
    "        use eigenstate = Qubit[bitsize];\n",
    "        PrepareEigenstate(eigenstate);\n",
    "        \n",
    "        // setup register to contain QFE result\n",
    "        use phaseResult = Qubit[bitsPrecision];\n",
    "        \n",
    "        // measure the result from QPE\n",
    "        let oracle = DiscreteOracle(OrderFindingOracle(a,N,_,_));\n",
    "        //QuantumPhaseEstimation(oracle, eigenstate, LittleEndianAsBigEndian(phaseResultLE));\n",
    "        let phaseResultI = ApplyQuantumPhaseEstimation(oracle, eigenstate, phaseResult);\n",
    "        \n",
    "        ResetAll(eigenstate);\n",
    "        \n",
    "        \n",
    "        // calculate the period based of the phase result\n",
    "        let period = PhaseResultToPeriod(phaseResultI,bitsPrecision,N);\n",
    "        \n",
    "        Message(IntAsString(period));\n",
    "        \n",
    "        // deal with a zero return value\n",
    "        if (period == 0) { set result = 1; }\n",
    "        // account for sub factors\n",
    "        else { set result = (period * result) / GreatestCommonDivisorI(result, period); }\n",
    "        \n",
    "    }\n",
    "    until (ExpModI(a,result,N) == 1);\n",
    "    return result;\n",
    "}"
   ]
  },
  {
   "cell_type": "code",
   "execution_count": null,
   "metadata": {},
   "outputs": [],
   "source": [
    "operation ShorsAlgorithmQuantum(N : Int) : (Int, Int) {\n",
    "    return ShorsAlgorithm(FindOrderQuantum,N);\n",
    "}"
   ]
  },
  {
   "cell_type": "code",
   "execution_count": null,
   "metadata": {},
   "outputs": [],
   "source": []
  }
 ],
 "metadata": {
  "kernelspec": {
   "display_name": "Q#",
   "language": "qsharp",
   "name": "iqsharp"
  },
  "language_info": {
   "file_extension": ".qs",
   "mimetype": "text/x-qsharp",
   "name": "qsharp",
   "version": "0.14"
  }
 },
 "nbformat": 4,
 "nbformat_minor": 2
}
