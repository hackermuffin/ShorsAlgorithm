{
 "cells": [
  {
   "cell_type": "markdown",
   "metadata": {},
   "source": [
    "# Shor's Algorithm\n",
    "\n",
    "**Shor's Algorithm** is an quantum kata designed to teach the basics of Shor's Algoirithm, which efficiently factorises large numbers on a quantum computer.\n",
    "\n",
    "Each task is wrapped in one operation preceded by the description of the task. Your goal is to fill in the blank (marked with the // ... comments) with some Q# code that solves the task. To verify your answer, run the cell using Ctrl+Enter (⌘+Enter on macOS).\n",
    "\n",
    "Within each section, tasks are given in approximate order of increasing difficulty; harder ones are marked with asterisks.\n",
    "\n",
    "## Part 1: A Classical Implementation\n",
    "\n",
    "Initially, we will implement the classical framework around the algorithm, and a classical version of the implimentation. \n",
    "\n",
    "First, we need to check some special cases for the factorising algorithm.\n",
    "\n",
    "### Task 1.1. IsEven\n",
    "\n",
    "This one use used to check if we can return the very fast calculation of $(2, N/2)$ as the factorisation.\n",
    "\n",
    "#### Input:\n",
    "Any positive integer $N$\n",
    "#### Goal:\n",
    "Return true if the number is even"
   ]
  },
  {
   "cell_type": "code",
   "execution_count": null,
   "metadata": {},
   "outputs": [],
   "source": [
    "%kata IsEven_Test\n",
    "\n",
    "function IsEven(N : Int) : Bool {\n",
    "    // ...\n",
    "}"
   ]
  },
  {
   "cell_type": "markdown",
   "metadata": {},
   "source": [
    "### Task 1.2. IsPrime\n",
    "\n",
    "Used to check we can actually factor the number we are given. This is useful to prevent infinite loops and errors later on in the code.\n",
    "\n",
    "This could be done by finding the factors, but that defeats the purpose of Shor's Algorithm. Faster methods (i.e. polynomial with respect to the number of bits of $N$) can be found [here](https://en.wikipedia.org/wiki/Primality_test#Example_code).\n",
    "\n",
    "#### Input:\n",
    "A positive integer $N$\n",
    "#### Goal:\n",
    "Return true if $N$ is prime."
   ]
  },
  {
   "cell_type": "code",
   "execution_count": null,
   "metadata": {},
   "outputs": [],
   "source": [
    "%kata IsPrime_Test\n",
    "\n",
    "function IsPrime(N : Int) : Bool {\n",
    "    // ...\n",
    "}"
   ]
  },
  {
   "cell_type": "markdown",
   "metadata": {},
   "source": [
    "With these two tests, we can confirm that N is a product of two distinct prime numbers, so $N = pq$. \n",
    "\n",
    "### Task 1.3. Classical order finding\n",
    "\n",
    "Shor's Algorithm uses a method called order finding for factorising. The order of two numbers $a, N$ is the value of $r > 0$ such that $a^r\\mod N \\equiv 1$. Consider the example of $a=2$, $N=15$.\n",
    "\n",
    "| r | $$a^r$$ | $$a^r \\mod N$$ |\n",
    "| - | ----- | ----------- |\n",
    "| 0 | 1     | 1           |\n",
    "| 1 | 2     | 2           |\n",
    "| 2 | 4     | 4           |\n",
    "| 3 | 8     | 8           |\n",
    "| 4 | 16    | 1           |\n",
    "| 5 | 32    | 2           |\n",
    "| ... | ... | ...         |\n",
    "\n",
    "So, the order of $a, N$ is $4$. We can apply this concept to any two relatively prime numbers (where the greatest common divisor is 1). \n",
    "\n",
    "Classically the order cannot be carried out in polynomial time with respect to number of bits of $N$, so the classical algorithm will become very inefficient for large numbers. However, there is a quantum algorithm to find order in polynomial time which we will implement later.\n",
    "\n",
    "#### Input:\n",
    "Two positive, relatively prime ingeters $a$ and $N$\n",
    "#### Goal:\n",
    "The order of $a, N$"
   ]
  },
  {
   "cell_type": "code",
   "execution_count": null,
   "metadata": {},
   "outputs": [],
   "source": [
    "%kata FindOrderClassical_Test\n",
    "\n",
    "function FindOrderClassical(a : Int, N : Int) : Int {\n",
    "    // ...\n",
    "}"
   ]
  },
  {
   "cell_type": "markdown",
   "metadata": {},
   "source": [
    "### Task 1.4. Generate random number\n",
    "\n",
    "Shor's Algorithm requires randomly selecting a value for $a$ to use in the order finding algorithm. This value should be $1 < a < N$. You could impliment this yourself by measuring qubits, or by using the libraries.\n",
    "\n",
    "#### Input:\n",
    "A positive integer $N$\n",
    "#### Goal:\n",
    "A randomly generated number $a$ such that $1 < a < N$."
   ]
  },
  {
   "cell_type": "code",
   "execution_count": null,
   "metadata": {},
   "outputs": [],
   "source": [
    "%kata GenerateRandomNumber_Test\n",
    "\n",
    "open Microsoft.Quantum.Arithmetic;\n",
    "open Microsoft.Quantum.Math;\n",
    "\n",
    "operation GenerateRandomNumber(N : Int) : Int {\n",
    "    // ...\n",
    "}"
   ]
  },
  {
   "cell_type": "markdown",
   "metadata": {},
   "source": [
    "### Task 1.5. General Case\n",
    "\n",
    "Once we've check all the special cases, we need to implement the general algorithm to find factors off the order of two numbers.\n",
    "\n",
    "With two numbers $a$ and $N$ with order $r$, there is a high chance that the greatest common divisor $\\gcd(a^\\frac{r}{2} \\pm 1, N)$ is a factor of $N$.\n",
    "\n",
    "So, the general case algorithm needs to:\n",
    "1. Pick a random number $1 < a < N$\n",
    "2. If $\\gcd(a,N) > 1$ , give $\\gcd(a,N)$ and $N/\\gcd(a,N)$ as the factorisation\n",
    "3. Find the order of $a$ and $N$.\n",
    "4. If the order is odd start over, otherwise calculate $x = (a^\\frac{r}{2} - 1)\\mod N$\n",
    "5. If $\\gcd(x,N) > 1$, give $\\gcd(x,N)$ and $N/gcd(x,N)$ as the factorisation, otherwise start over \n",
    "\n",
    "#### Input:\n",
    "An order finding operation, and an integer $N$ to factor.\n",
    "\n",
    "#### Goal:\n",
    "A tuple of integers representing the integer factors of $N$\n"
   ]
  },
  {
   "cell_type": "code",
   "execution_count": null,
   "metadata": {},
   "outputs": [],
   "source": [
    "%kata GeneralCase_Test\n",
    "\n",
    "operation GeneralCase(OrderFinder : ((Int, Int)=>Int), N : Int) : (Int, Int) {\n",
    "    // ...\n",
    "}"
   ]
  },
  {
   "cell_type": "markdown",
   "metadata": {},
   "source": [
    "### Task 1.6. Full Shor's Implimentation\n",
    "Finally, we just need to put together all the piceces for the full factorisation algorithm. Remember to check if $N$ is even, and if $N$ is prime, throw an error. Otherwise, just apply the general factorising algorithm.\n",
    "\n",
    "This one doesn't have a test, as it'll be tested after implimenting a specific classical/quantum version of the algorithm.\n",
    "\n",
    "#### Input:\n",
    "An order finding operation, and an integer $N$ to factor.\n",
    "\n",
    "#### Goal:\n",
    "A tuple of integers representing the integer factors of $N$"
   ]
  },
  {
   "cell_type": "code",
   "execution_count": null,
   "metadata": {},
   "outputs": [],
   "source": [
    "operation ShorsAlgorithm(OrderFinder : (Int, Int)=> Int, N : Int) : (Int, Int) {\n",
    "    if IsEven(N) {\n",
    "        return (2, N/2);\n",
    "    }\n",
    "    if IsPrime(N) {\n",
    "        fail IntAsString(N) + \" is prime, so doesn't have factors.\";\n",
    "    }\n",
    "    return GeneralCase(OrderFinder, N);\n",
    "}"
   ]
  },
  {
   "cell_type": "markdown",
   "metadata": {},
   "source": [
    "### Task 1.7 Classical Shor's Implimentation\n",
    "Finally, we can put it all together to create a function that takes and integer and classically factors it using Shor's Algorithm. Once the code is written, feel free to test it on some values using the simulatation below.\n",
    "\n",
    "#### Input: \n",
    "An integer $N$ to factor\n",
    "\n",
    "#### Goal:\n",
    "The prime factors of $N$\n"
   ]
  },
  {
   "cell_type": "code",
   "execution_count": null,
   "metadata": {},
   "outputs": [],
   "source": [
    "%kata ShorsAlgorithmClassical_Test\n",
    "\n",
    "operation ShorsAlgorithmClassical(N : Int) : (Int, Int) {\n",
    "    return ShorsAlgorithm(FindOrderClassical, N);\n",
    "}"
   ]
  },
  {
   "cell_type": "code",
   "execution_count": null,
   "metadata": {},
   "outputs": [],
   "source": [
    "%simulate ShorsAlgorithmClassical N=15"
   ]
  },
  {
   "cell_type": "markdown",
   "metadata": {},
   "source": [
    "## Part 2: Quantum Implementation of Order Finding\n",
    "\n",
    "The next step is to implement order finding using a quantum operation.\n",
    "\n",
    "### Task 2.1 Oracle\n",
    "\n",
    "The first part of this is to write an oracle that represents the operation behind order finding. For this we need a quantum oracle that carries out the following transformation:\n",
    "$$ U|y\\rangle \\equiv |a y (\\text{mod } N) \\rangle$$\n",
    "\n",
    "The algorithm will later rely on using quantum phase estimation (QFE) using this oracle, so we will need to apply this oracle multiple times, so the final oracle we want is:\n",
    "\n",
    "$$ U^\\text{power}|y\\rangle \\equiv |a^\\text{power} y(\\text{mod } N)\\rangle $$\n",
    "\n",
    "#### Input:\n",
    "\n",
    "Integer values for $a, N, \\text{power}$ and a register to operate on of the same size as the number of bits required to express $N$\n",
    "\n",
    "#### Goal:\n",
    "\n",
    "Apply the above quantum oracle to the state $\\text{power}$ times, resulting in $|y\\rangle \\to |a^\\text{power} y(\\text{mod } N)\\rangle$\n",
    "\n",
    "**// TODO add hint about library function**\n"
   ]
  },
  {
   "cell_type": "code",
   "execution_count": null,
   "metadata": {},
   "outputs": [],
   "source": [
    "%kata OrderFindingOracle_Test\n",
    "\n",
    "operation OrderFindingOracle(a : Int, N : Int, power : Int, target : Qubit[]) : Unit is Adj+Ctl {\n",
    "    // ...\n",
    "}"
   ]
  },
  {
   "cell_type": "markdown",
   "metadata": {},
   "source": [
    "### Task 2.2 Prepare an eigenstate for QFE\n",
    "\n",
    "We can define one of the eigenvectors for the order finding oracle with: \n",
    "$$ |\\psi_1\\rangle = \\frac{1}{\\sqrt{r}} \\sum_{j=0}^{r-1} e^{-2\\pi i \\left(\\frac{1}{r}\\right)j} |a^j \\text{mod} N \\rangle$$\n",
    "Or more generally the eigenvectors are:\n",
    "$$ |\\psi_k\\rangle = \\frac{1}{\\sqrt{r}} \\sum_{j=0}^{r-1} e^{-2\\pi i \\left(\\frac{k}{r}\\right)j} |a^j \\text{mod} N \\rangle$$\n",
    "With eigenvalue:\n",
    "$$ U|\\psi_k \\rangle = e^{-2\\pi i \\left(\\frac{k}{r}\\right)} | \\psi_k \\rangle $$\n",
    "\n",
    "However, when we add up all $r$ eigenvectors, we get:\n",
    "$$ \\frac{1}{\\sqrt{r}} \\sum_{k=1}^{r} | \\psi_k \\rangle\n",
    "= \\frac{1}{r} \\sum_{k=1}^{r} \\sum_{j=0}^{r-1} e^{-2\\pi i \\left(\\frac{k}{r}\\right)j}|a^j \\text{mod} N \\rangle = |1\\rangle\n",
    "$$\n",
    "\n",
    "So, if we prepare the state $|1\\rangle$ we can operate on it as the combination of all of the unknown eigenvalues and eigenvectors.\n",
    "\n",
    "#### Input:\n",
    "A register in the $|0\\rangle$ state\n",
    "\n",
    "#### Goal:\n",
    "A register in the little endian $|1\\rangle$"
   ]
  },
  {
   "cell_type": "code",
   "execution_count": null,
   "metadata": {},
   "outputs": [],
   "source": [
    "%kata PrepareEigenstate_Test\n",
    "\n",
    "operation PrepareEigenstate(eigenstate : Qubit[]) : Unit is Adj+Ctl {\n",
    "    // ...\n",
    "}"
   ]
  },
  {
   "cell_type": "markdown",
   "metadata": {},
   "source": [
    "### Task 2.3 Applying QFE to find the order\n",
    "\n",
    "When we perform Quantum Phase Estimation on a unitary and it's eigenvector, the result is the $\\theta$ value assocated with the eigenvalue where:\n",
    "$$ U|\\psi\\rangle = e^{2\\pi i\\theta}|\\psi\\rangle $$\n",
    "\n",
    "So, when we operate on the $|1\\rangle$ state, which is the superposition of all of the (currently unknown) eigenvectors, the result will be the superposition of all of the results associated with all eigenvectors.\n",
    "\n",
    "As the eigenvalues of each eigenvector are:\n",
    "$$ U|\\psi_k\\rangle = e^{-2\\pi i \\left(\\frac{k}{r}\\right)} | \\psi_k \\rangle$$\n",
    "\n",
    "So, the QPE result associated with the $k$th eigenvector will be:\n",
    "$$ \\theta_k = - \\frac{k}{r} $$ \n",
    "\n",
    "So, when applying QPE to the $|1\\rangle$ state, the result will be the superposition of the states, so:\n",
    "$$ \\theta = - \\sum_{k=1}^r \\frac{k}{r} $$\n",
    "\n",
    "Mesuring the state will collapse the superposition, so we we get one of the $\\frac{k}{r}$ states, or more precisely, the $k$ value associated with this state.\n",
    "\n",
    "For this task write an operation that applys the quantum phase estimation and measures out an integer $k$ from the system.\n",
    "\n",
    "#### Input:\n",
    "A [DiscreteOracle](https://docs.microsoft.com/en-us/qsharp/api/qsharp/microsoft.quantum.oracles.discreteoracle) from the Oracles library which is an oracle that takes an integer power and an array of quibits and applys the oracle power times, an eigenstate register pre-prepared in the $|1\\rangle$ state, and a result register in the $|0\\rangle$ state, with some aribitrary number of bits of precision in the result.\n",
    "\n",
    "#### Goal:\n",
    "\n",
    "Either zero or a vaild $k$ value depending on the result of mesuring the quantum phase operation. The state of the qubits at the end does not matter."
   ]
  },
  {
   "cell_type": "code",
   "execution_count": null,
   "metadata": {},
   "outputs": [],
   "source": [
    "%kata ApplyQuantumPhaseEstimation_Test\n",
    "\n",
    "open Microsoft.Quantum.Oracles;\n",
    "\n",
    "operation ApplyQuantumPhaseEstimation(oracle : DiscreteOracle, eigenstate : Qubit[], result : Qubit[]) : Int {\n",
    "    // ...\n",
    "}"
   ]
  },
  {
   "cell_type": "markdown",
   "metadata": {},
   "source": [
    "### Task 2.4 Converting the QFE mesurement result to an order\n",
    "\n",
    "While we have can now calculate a $k$ value, we still need to derive a value of $r$ from this.\n",
    "\n",
    "Given we know that the number of bits of precision of the result register given, we can get the fraction $\\frac{k}{r}$ from $\\frac{k}{2^\\text{N precision bits}}$, simplified down to a form such that $r < N$.\n",
    "\n",
    "#### Input\n",
    "A result $k$ output from the QPE operation above, the number of bits of precision the measurement was carried out with, and the $N$ value being factorised.\n",
    "\n",
    "#### Goal:\n",
    "\n",
    "An $r < N$ value such that $\\frac{k}{r}$ is a close (or exact) approximation of $\\frac{\\text{phaseResult}}{2^\\text{bitsPrecision}}$. Make sure the value returned is positive.\n",
    "\n",
    "**//TODO add hint about library function**"
   ]
  },
  {
   "cell_type": "code",
   "execution_count": null,
   "metadata": {},
   "outputs": [],
   "source": [
    "%kata PhaseResultToOrder_Test\n",
    "\n",
    "function PhaseResultToOrder(phaseResult : Int, bitsPrecision : Int, N : Int) : Int {\n",
    "    // ...\n",
    "}"
   ]
  },
  {
   "cell_type": "markdown",
   "metadata": {},
   "source": [
    "### Task 2.5 Quantum Order Finder\n",
    "\n",
    "Now we have all of the peices to use a quantum algorithm to calculate the order of two numbers $a$ and $N$, we just need to combine it all together. The overall order finder needs to:\n",
    "\n",
    "1. Allocate and prepare a eigenstate register with the bit size of $N$\n",
    "2. Set up a result register to hold the QPE result. The test use a size $2n + 1$ where $n$ is the bit size of $N$\n",
    "3. Calculate the result from QFE\n",
    "4. Calculate the order based on this result\n",
    "5. Check (classically) if the result is a valid order result\n",
    "6. If it's valid return the value, otherwise try again\n"
   ]
  },
  {
   "cell_type": "code",
   "execution_count": null,
   "metadata": {},
   "outputs": [],
   "source": [
    "%kata FindOrderQuantum_Test\n",
    "\n",
    "open Microsoft.Quantum.Diagnostics;\n",
    "\n",
    "operation FindOrderQuantum(a : Int, N : Int) : Int {\n",
    "    // ...\n",
    "}"
   ]
  },
  {
   "cell_type": "markdown",
   "metadata": {},
   "source": [
    "### Task 2.6 Implementing a Quantum Shor's Algorithm\n",
    "\n",
    "Finally, just use the quantum order finding oracle to define a quantum Shor's Algorithm!\n",
    "\n",
    "#### Input:\n",
    "An integer $N$ to be factored\n",
    "\n",
    "#### Goal:\n",
    "\n",
    "A tuple of integers representing the factors of $N$, found using the quantum order finding"
   ]
  },
  {
   "cell_type": "code",
   "execution_count": null,
   "metadata": {},
   "outputs": [],
   "source": [
    "%kata ShorsAlgorithmQuantum_Test\n",
    "\n",
    "operation ShorsAlgorithmQuantum(N : Int) : (Int, Int) {\n",
    "    // ...\n",
    "}"
   ]
  },
  {
   "cell_type": "markdown",
   "metadata": {},
   "source": [
    "Now, give it a test. Don't go too big - Q# simulations have limits, and large factorisations take lots of memory. $N=15$ or $N=21$ are good starting points."
   ]
  },
  {
   "cell_type": "code",
   "execution_count": null,
   "metadata": {},
   "outputs": [],
   "source": [
    "%simulate ShorsAlgorithmQuantum N=15"
   ]
  }
 ],
 "metadata": {
  "kernelspec": {
   "display_name": "Q#",
   "language": "qsharp",
   "name": "iqsharp"
  },
  "language_info": {
   "file_extension": ".qs",
   "mimetype": "text/x-qsharp",
   "name": "qsharp",
   "version": "0.14"
  }
 },
 "nbformat": 4,
 "nbformat_minor": 2
}
