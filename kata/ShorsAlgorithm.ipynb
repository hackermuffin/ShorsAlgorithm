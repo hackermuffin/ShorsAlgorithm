{
 "cells": [
  {
   "cell_type": "markdown",
   "metadata": {},
   "source": [
    "# Shor's Algorithm\n",
    "\n",
    "**Shor's Algorithm** is an quantum kata designed to teach the basics of Shor's Algoirithm, which efficiently factorises large numbers on a quantum computer.\n",
    "\n",
    "Each task is wrapped in one operation preceded by the description of the task. Your goal is to fill in the blank (marked with the // ... comments) with some Q# code that solves the task. To verify your answer, run the cell using Ctrl+Enter (⌘+Enter on macOS).\n",
    "\n",
    "Within each section, tasks are given in approximate order of increasing difficulty; harder ones are marked with asterisks.\n",
    "\n",
    "## Part 1: A Classical Implementation\n",
    "\n",
    "Initially, we will implement the classical framework around the algorithm, and a classical version of the implimentation. \n",
    "\n",
    "First, we need to check some special cases for the factorising algorithm.\n",
    "\n",
    "### Task 1.1. IsEven\n",
    "\n",
    "This one use used to check if we can return the very fast calculation of $(2, N/2)$ as the factorisation.\n",
    "\n",
    "#### Input:\n",
    "Any positive integer $N$\n",
    "#### Goal:\n",
    "Return true if the number is even"
   ]
  },
  {
   "cell_type": "code",
   "execution_count": 20,
   "metadata": {},
   "outputs": [
    {
     "name": "stdout",
     "output_type": "stream",
     "text": [
      "Starting IsEven_Test...\n"
     ]
    },
    {
     "name": "stderr",
     "output_type": "stream",
     "text": [
      "IsEven failed on 2\n",
      "\tExpected:\tTrue\n",
      "\tActual:\tFalse\n",
      "Try again!\n"
     ]
    }
   ],
   "source": [
    "%kata IsEven_Test\n",
    "\n",
    "function IsEven(N : Int) : Bool {\n",
    "    // ...\n",
    "}"
   ]
  },
  {
   "cell_type": "markdown",
   "metadata": {},
   "source": [
    "### Task 1.2. IsPrime\n",
    "\n",
    "Used to check we can actually factor the number we are given. This is useful to prevent infinite loops and errors later on in the code.\n",
    "\n",
    "This could be done by finding the factors, but that defeats the purpose of Shor's Algorithm. Faster methods (i.e. polynomial with respect to the size of $N$) can be found [here](https://en.wikipedia.org/wiki/Primality_test#Example_code).\n",
    "\n",
    "#### Input:\n",
    "A positive integer $N$\n",
    "#### Goal:\n",
    "Return true if $N$ is prime."
   ]
  },
  {
   "cell_type": "code",
   "execution_count": 21,
   "metadata": {},
   "outputs": [
    {
     "name": "stderr",
     "output_type": "stream",
     "text": [
      "/snippet_.qs(2,1): error QS6307: Not all code paths return a value.\n"
     ]
    }
   ],
   "source": [
    "%kata IsPrime_Test\n",
    "\n",
    "function IsPrime(N : Int) : Bool {\n",
    "    // ...\n",
    "}"
   ]
  },
  {
   "cell_type": "markdown",
   "metadata": {},
   "source": [
    "With these two tests, we can confirm that N is a product of two distinct prime numbers, so $N = pq$. \n",
    "\n",
    "### Task 1.3. Classical order finding\n",
    "\n",
    "Shor's Algorithm uses a method called order finding for factorising. The order of two numbers $a, N$ is the value of $r > 0$ such that $a^r\\mod N = 1$. Consider the example of $a=2$, $N=15$.\n",
    "\n",
    "| r | $$a^r$$ | $$a^r \\mod N$$ |\n",
    "| - | ----- | ----------- |\n",
    "| 0 | 1     | 1           |\n",
    "| 1 | 2     | 2           |\n",
    "| 2 | 4     | 4           |\n",
    "| 3 | 8     | 8           |\n",
    "| 4 | 16    | 1           |\n",
    "| 5 | 32    | 2           |\n",
    "| ... | ... | ...         |\n",
    "\n",
    "So, the order of $a, N$ is $4$. We can apply this concept to any two relatively prime numbers (where the greatest common divisor is 1). \n",
    "\n",
    "Classically the order cannot \n",
    "\n",
    "#### Input:\n",
    "Two positive, relatively prime ingeters $a$ and $N$ such that "
   ]
  },
  {
   "cell_type": "code",
   "execution_count": 3,
   "metadata": {},
   "outputs": [
    {
     "data": {
      "application/x-qsharp-data": "[\"FindOrderClassicalHelper\"]",
      "text/html": [
       "<ul><li>FindOrderClassicalHelper</li></ul>"
      ],
      "text/plain": [
       "FindOrderClassicalHelper"
      ]
     },
     "execution_count": 3,
     "metadata": {},
     "output_type": "execute_result"
    }
   ],
   "source": [
    "operation FindOrderClassicalHelper(a : BigInt, N: BigInt) : Int {\n",
    "    mutable power = 0;\n",
    "    repeat {\n",
    "        set power += 1;\n",
    "    } until (a^power % N == 1L);\n",
    "    return power;\n",
    "}"
   ]
  },
  {
   "cell_type": "code",
   "execution_count": 4,
   "metadata": {},
   "outputs": [
    {
     "name": "stdout",
     "output_type": "stream",
     "text": [
      "Starting FindOrderClassical_Test...\n"
     ]
    },
    {
     "data": {
      "application/x-qsharp-data": "\"Success!\"",
      "text/plain": [
       "Success!"
      ]
     },
     "execution_count": 4,
     "metadata": {},
     "output_type": "execute_result"
    }
   ],
   "source": [
    "%kata FindOrderClassical_Test\n",
    "\n",
    "open Microsoft.Quantum.Convert;\n",
    "\n",
    "operation FindOrderClassical(a : Int, N : Int) : Int{\n",
    "    return FindOrderClassicalHelper(IntAsBigInt(a),IntAsBigInt(N));\n",
    "}"
   ]
  },
  {
   "cell_type": "markdown",
   "metadata": {},
   "source": [
    "### 1.4 Generate random number"
   ]
  },
  {
   "cell_type": "code",
   "execution_count": 5,
   "metadata": {},
   "outputs": [
    {
     "name": "stdout",
     "output_type": "stream",
     "text": [
      "Starting GenerateRandomNumber_Test...\n"
     ]
    },
    {
     "data": {
      "application/x-qsharp-data": "\"Success!\"",
      "text/plain": [
       "Success!"
      ]
     },
     "execution_count": 5,
     "metadata": {},
     "output_type": "execute_result"
    }
   ],
   "source": [
    "%kata GenerateRandomNumber_Test\n",
    "\n",
    "open Microsoft.Quantum.Arithmetic;\n",
    "open Microsoft.Quantum.Math;\n",
    "\n",
    "operation GenerateRandomNumber(N : Int) : Int {\n",
    "    use register = Qubit[BitSizeI(N-2)];\n",
    "    mutable result = 0;\n",
    "    repeat {\n",
    "        ApplyToEachCA(H,register);\n",
    "        set result = MeasureInteger(LittleEndian(register));\n",
    "    } until ((result + 2) < N);\n",
    "    return result+2;\n",
    "}"
   ]
  },
  {
   "cell_type": "markdown",
   "metadata": {},
   "source": [
    "### 1.5 General Case"
   ]
  },
  {
   "cell_type": "code",
   "execution_count": 7,
   "metadata": {},
   "outputs": [
    {
     "name": "stdout",
     "output_type": "stream",
     "text": [
      "Starting GeneralCase_Test...\n"
     ]
    },
    {
     "data": {
      "application/x-qsharp-data": "\"Success!\"",
      "text/plain": [
       "Success!"
      ]
     },
     "execution_count": 7,
     "metadata": {},
     "output_type": "execute_result"
    }
   ],
   "source": [
    "%kata GeneralCase_Test\n",
    "\n",
    "operation GeneralCase(OrderFinder : ((Int, Int)=>Int), N : Int) : (Int, Int) {\n",
    "    mutable result = 0;\n",
    "    repeat {\n",
    "        let a = GenerateRandomNumber(N);\n",
    "        let gcd = GreatestCommonDivisorI(a,N);\n",
    "        if (gcd > 1) {\n",
    "            return (gcd, N/gcd);\n",
    "        }\n",
    "        let r = OrderFinder(a,N);\n",
    "        if (IsEven(r)) {\n",
    "            let x = (a^(r/2) - 1) % N;\n",
    "            let gcdX = GreatestCommonDivisorI(x,N);\n",
    "            if (gcdX > 1) {\n",
    "                set result = gcdX;\n",
    "            }\n",
    "        }\n",
    "    } until (result != 0);\n",
    "    return (result, N/result);\n",
    "}"
   ]
  },
  {
   "cell_type": "markdown",
   "metadata": {},
   "source": [
    "### 1.6 Full Shor's Implimentation"
   ]
  },
  {
   "cell_type": "code",
   "execution_count": 8,
   "metadata": {},
   "outputs": [
    {
     "data": {
      "application/x-qsharp-data": "[\"ShorsAlgorithm\"]",
      "text/html": [
       "<ul><li>ShorsAlgorithm</li></ul>"
      ],
      "text/plain": [
       "ShorsAlgorithm"
      ]
     },
     "execution_count": 8,
     "metadata": {},
     "output_type": "execute_result"
    }
   ],
   "source": [
    "operation ShorsAlgorithm(OrderFinder : (Int, Int)=> Int, N : Int) : (Int, Int) {\n",
    "    if IsEven(N) {\n",
    "        return (2, N/2);\n",
    "    }\n",
    "    if IsPrime(N) {\n",
    "        fail IntAsString(N) + \" is prime, so doesn't have factors.\";\n",
    "    }\n",
    "    return GeneralCase(OrderFinder, N);\n",
    "}"
   ]
  },
  {
   "cell_type": "markdown",
   "metadata": {},
   "source": [
    "### 1.7 Classical Shor's Implimentation"
   ]
  },
  {
   "cell_type": "code",
   "execution_count": 9,
   "metadata": {},
   "outputs": [
    {
     "name": "stdout",
     "output_type": "stream",
     "text": [
      "Starting ShorsAlgorithmClassical_Test...\n"
     ]
    },
    {
     "data": {
      "application/x-qsharp-data": "\"Success!\"",
      "text/plain": [
       "Success!"
      ]
     },
     "execution_count": 9,
     "metadata": {},
     "output_type": "execute_result"
    }
   ],
   "source": [
    "%kata ShorsAlgorithmClassical_Test\n",
    "\n",
    "operation ShorsAlgorithmClassical(N : Int) : (Int, Int) {\n",
    "    return ShorsAlgorithm(FindOrderClassical, N);\n",
    "}"
   ]
  },
  {
   "cell_type": "code",
   "execution_count": 10,
   "metadata": {},
   "outputs": [
    {
     "data": {
      "application/x-qsharp-data": "{\"@type\":\"@tuple\",\"Item1\":3,\"Item2\":5}",
      "text/plain": [
       "(3, 5)"
      ]
     },
     "execution_count": 10,
     "metadata": {},
     "output_type": "execute_result"
    }
   ],
   "source": [
    "%simulate ShorsAlgorithmClassical N=15"
   ]
  },
  {
   "cell_type": "markdown",
   "metadata": {},
   "source": [
    "## Part 2: Quantum Implementation of Order Finding\n",
    "### 2.1 Oracle"
   ]
  },
  {
   "cell_type": "code",
   "execution_count": 11,
   "metadata": {},
   "outputs": [
    {
     "name": "stdout",
     "output_type": "stream",
     "text": [
      "Starting OrderFindingOracle_Test...\n"
     ]
    },
    {
     "data": {
      "application/x-qsharp-data": "\"Success!\"",
      "text/plain": [
       "Success!"
      ]
     },
     "execution_count": 11,
     "metadata": {},
     "output_type": "execute_result"
    }
   ],
   "source": [
    "%kata OrderFindingOracle_Test\n",
    "\n",
    "open Microsoft.Quantum.Arithmetic;\n",
    "open Microsoft.Quantum.Math;\n",
    "\n",
    "operation OrderFindingOracle(a : Int, N : Int, power : Int, target : Qubit[]) : Unit is Adj+Ctl {\n",
    "    MultiplyByModularInteger(ExpModI(a, power, N), N, LittleEndian(target));\n",
    "}"
   ]
  },
  {
   "cell_type": "code",
   "execution_count": 12,
   "metadata": {},
   "outputs": [
    {
     "name": "stdout",
     "output_type": "stream",
     "text": [
      "Starting PrepareEigenstate_Test...\n"
     ]
    },
    {
     "data": {
      "application/x-qsharp-data": "\"Success!\"",
      "text/plain": [
       "Success!"
      ]
     },
     "execution_count": 12,
     "metadata": {},
     "output_type": "execute_result"
    }
   ],
   "source": [
    "%kata PrepareEigenstate_Test\n",
    "\n",
    "operation PrepareEigenstate(eigenstate : Qubit[]) : Unit is Adj+Ctl {\n",
    "    X(eigenstate[0]);\n",
    "}"
   ]
  },
  {
   "cell_type": "code",
   "execution_count": 13,
   "metadata": {},
   "outputs": [
    {
     "name": "stdout",
     "output_type": "stream",
     "text": [
      "Starting ApplyQuantumPhaseEstimation_Test...\n",
      "Did not find valid result on attempt 1, retrying...\n"
     ]
    },
    {
     "data": {
      "application/x-qsharp-data": "\"Success!\"",
      "text/plain": [
       "Success!"
      ]
     },
     "execution_count": 13,
     "metadata": {},
     "output_type": "execute_result"
    }
   ],
   "source": [
    "%kata ApplyQuantumPhaseEstimation_Test\n",
    "\n",
    "open Microsoft.Quantum.Oracles;\n",
    "open Microsoft.Quantum.Characterization;\n",
    "\n",
    "operation ApplyQuantumPhaseEstimation(oracle : DiscreteOracle, eigenstate : Qubit[], result : Qubit[]) : Int {\n",
    "    let resultBELE = LittleEndianAsBigEndian(LittleEndian(result));\n",
    "    QuantumPhaseEstimation(oracle,eigenstate,resultBELE);\n",
    "    return MeasureInteger(LittleEndian(result));\n",
    "}"
   ]
  },
  {
   "cell_type": "code",
   "execution_count": 14,
   "metadata": {},
   "outputs": [
    {
     "name": "stdout",
     "output_type": "stream",
     "text": [
      "Starting PhaseResultToPeriod_Test...\n"
     ]
    },
    {
     "data": {
      "application/x-qsharp-data": "\"Success!\"",
      "text/plain": [
       "Success!"
      ]
     },
     "execution_count": 14,
     "metadata": {},
     "output_type": "execute_result"
    }
   ],
   "source": [
    "%kata PhaseResultToPeriod_Test\n",
    "\n",
    "open Microsoft.Quantum.Math;\n",
    "\n",
    "operation PhaseResultToPeriod(phaseResult : Int, bitsPrecision : Int, N : Int) : Int {\n",
    "    let fractionResult = Fraction(phaseResult,2^bitsPrecision);\n",
    "    let simplifiedFraction = ContinuedFractionConvergentI(fractionResult, N);\n",
    "    let (numerator, period) = simplifiedFraction!;\n",
    "    return AbsI(period);\n",
    "}"
   ]
  },
  {
   "cell_type": "code",
   "execution_count": 15,
   "metadata": {},
   "outputs": [
    {
     "name": "stdout",
     "output_type": "stream",
     "text": [
      "Starting FindOrderQuantum_Test...\n"
     ]
    },
    {
     "data": {
      "application/x-qsharp-data": "\"Success!\"",
      "text/plain": [
       "Success!"
      ]
     },
     "execution_count": 15,
     "metadata": {},
     "output_type": "execute_result"
    }
   ],
   "source": [
    "%kata FindOrderQuantum_Test\n",
    "\n",
    "open Microsoft.Quantum.Diagnostics;\n",
    "\n",
    "operation FindOrderQuantum(a : Int, N : Int) : Int {\n",
    "    mutable result = 1;\n",
    "    let bitsize = BitSizeI(N);\n",
    "    let bitsPrecision = 2 * bitsize + 1; // decide on precision?\n",
    "    \n",
    "    repeat {        \n",
    "        // setup register holding 'eigenstate' of |1>\n",
    "        use eigenstate = Qubit[bitsize];\n",
    "        PrepareEigenstate(eigenstate);\n",
    "        \n",
    "        // setup register to contain QFE result\n",
    "        use phaseResult = Qubit[bitsPrecision];\n",
    "        \n",
    "        // measure the result from QPE\n",
    "        let oracle = DiscreteOracle(OrderFindingOracle(a,N,_,_));\n",
    "        //QuantumPhaseEstimation(oracle, eigenstate, LittleEndianAsBigEndian(phaseResultLE));\n",
    "        let phaseResultI = ApplyQuantumPhaseEstimation(oracle, eigenstate, phaseResult);\n",
    "        \n",
    "        ResetAll(eigenstate);\n",
    "        \n",
    "        \n",
    "        // calculate the period based of the phase result\n",
    "        let period = PhaseResultToPeriod(phaseResultI,bitsPrecision,N);\n",
    "        \n",
    "        // deal with a zero return value\n",
    "        if (period == 0) { set result = 1; }\n",
    "        // account for sub factors\n",
    "        else { set result = (period * result) / GreatestCommonDivisorI(result, period); }\n",
    "        \n",
    "    }\n",
    "    until (ExpModI(a,result,N) == 1);\n",
    "    return result;\n",
    "}"
   ]
  },
  {
   "cell_type": "code",
   "execution_count": 16,
   "metadata": {},
   "outputs": [
    {
     "name": "stdout",
     "output_type": "stream",
     "text": [
      "Starting ShorsAlgorithmQuantum_Test...\n"
     ]
    },
    {
     "data": {
      "application/x-qsharp-data": "\"Success!\"",
      "text/plain": [
       "Success!"
      ]
     },
     "execution_count": 16,
     "metadata": {},
     "output_type": "execute_result"
    }
   ],
   "source": [
    "%kata ShorsAlgorithmQuantum_Test\n",
    "\n",
    "operation ShorsAlgorithmQuantum(N : Int) : (Int, Int) {\n",
    "    return ShorsAlgorithm(FindOrderQuantum,N);\n",
    "}"
   ]
  },
  {
   "cell_type": "code",
   "execution_count": 17,
   "metadata": {},
   "outputs": [
    {
     "data": {
      "application/x-qsharp-data": "{\"@type\":\"@tuple\",\"Item1\":3,\"Item2\":5}",
      "text/plain": [
       "(3, 5)"
      ]
     },
     "execution_count": 17,
     "metadata": {},
     "output_type": "execute_result"
    }
   ],
   "source": [
    "%simulate ShorsAlgorithmQuantum N=15"
   ]
  }
 ],
 "metadata": {
  "kernelspec": {
   "display_name": "Q#",
   "language": "qsharp",
   "name": "iqsharp"
  },
  "language_info": {
   "file_extension": ".qs",
   "mimetype": "text/x-qsharp",
   "name": "qsharp",
   "version": "0.14"
  }
 },
 "nbformat": 4,
 "nbformat_minor": 2
}
