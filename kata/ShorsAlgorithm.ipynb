{
 "cells": [
  {
   "cell_type": "markdown",
   "metadata": {},
   "source": [
    "# Shors Algorithm\n",
    "\n",
    "## Task 1: A classical implementation\n"
   ]
  },
  {
   "cell_type": "code",
   "execution_count": 1,
   "metadata": {},
   "outputs": [
    {
     "data": {
      "application/x-qsharp-data": "\"Success!\"",
      "text/plain": [
       "Success!"
      ]
     },
     "execution_count": 1,
     "metadata": {},
     "output_type": "execute_result"
    }
   ],
   "source": [
    "%kata IsEven_Test\n",
    "\n",
    "operation IsEven(N : Int) : Bool {\n",
    "    return (N%2==0);\n",
    "}"
   ]
  },
  {
   "cell_type": "code",
   "execution_count": null,
   "metadata": {},
   "outputs": [],
   "source": [
    "%kata Test_Test\n",
    "\n",
    "open Microsoft.Quantum.Canon;\n",
    "open Microsoft.Quantum.Intrinsic;\n",
    "\n",
    "operation Test(qs : Qubit[]) : Unit {\n",
    "    ApplyToEach(H,qs);\n",
    "}"
   ]
  },
  {
   "cell_type": "code",
   "execution_count": 1,
   "metadata": {},
   "outputs": [
    {
     "name": "stderr",
     "output_type": "stream",
     "text": [
      "Released qubits are not in zero state.\n",
      "Try again!\n"
     ]
    }
   ],
   "source": [
    "%kata OrderFindingOracle_Test\n",
    "\n",
    "open Microsoft.Quantum.Arithmetic;\n",
    "open Microsoft.Quantum.Math;\n",
    "\n",
    "operation OrderFindingOracle (a : Int, N : Int, power : Int, target : Qubit[]) : Unit is Adj {\n",
    "    MultiplyByModularInteger(ExpModI(a, power, N), N, LittleEndian(target));\n",
    "}"
   ]
  },
  {
   "cell_type": "code",
   "execution_count": 2,
   "metadata": {},
   "outputs": [
    {
     "data": {
      "application/x-qsharp-data": "[\"OrderFindingTest\"]",
      "text/html": [
       "<ul><li>OrderFindingTest</li></ul>"
      ],
      "text/plain": [
       "OrderFindingTest"
      ]
     },
     "execution_count": 2,
     "metadata": {},
     "output_type": "execute_result"
    }
   ],
   "source": [
    "operation OrderFindingTest () : Unit {\n",
    "    let (a, N, r) = (2, 15, 3);\n",
    "    use register = Qubit[BitSizeI(N)];\n",
    "    ApplyToEachCA(H,register);\n",
    "    OrderFindingOracle(a, N, r, register);\n",
    "}"
   ]
  },
  {
   "cell_type": "code",
   "execution_count": null,
   "metadata": {},
   "outputs": [],
   "source": [
    "%simulate OrderFindingTest"
   ]
  },
  {
   "cell_type": "code",
   "execution_count": null,
   "metadata": {},
   "outputs": [],
   "source": []
  }
 ],
 "metadata": {
  "kernelspec": {
   "display_name": "Q#",
   "language": "qsharp",
   "name": "python397jvsc74a57bd00de41f590953aa3e51dfa8055552ee771ea6806b9de5cda54b633f20b8331dcd"
  },
  "language_info": {
   "file_extension": ".qs",
   "mimetype": "text/x-qsharp",
   "name": "qsharp",
   "version": "0.14"
  }
 },
 "nbformat": 4,
 "nbformat_minor": 2
}
